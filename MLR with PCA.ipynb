{
 "cells": [
  {
   "cell_type": "code",
   "execution_count": 15,
   "id": "885dee22",
   "metadata": {},
   "outputs": [],
   "source": [
    "#Importing the Important Libraries.\n",
    "\n",
    "import pandas as pd\n",
    "import numpy as np\n",
    "import matplotlib.pyplot as plt\n",
    "import seaborn as sns\n",
    "from sklearn.model_selection import train_test_split\n",
    "from sklearn.linear_model import LinearRegression\n",
    "from sklearn import metrics \n",
    "from sklearn.decomposition import PCA\n",
    "from sklearn.preprocessing import StandardScaler\n",
    "%matplotlib inline"
   ]
  },
  {
   "cell_type": "code",
   "execution_count": 16,
   "id": "cbd657c9",
   "metadata": {},
   "outputs": [],
   "source": [
    "df = pd.read_csv('insurance.csv')\n"
   ]
  },
  {
   "cell_type": "code",
   "execution_count": 17,
   "id": "5b611c20",
   "metadata": {},
   "outputs": [
    {
     "data": {
      "text/plain": [
       "(1338, 7)"
      ]
     },
     "execution_count": 17,
     "metadata": {},
     "output_type": "execute_result"
    }
   ],
   "source": [
    "from sklearn.model_selection import train_test_split\n",
    "\n",
    "df.shape\n"
   ]
  },
  {
   "cell_type": "code",
   "execution_count": 18,
   "id": "19746d0b",
   "metadata": {},
   "outputs": [
    {
     "data": {
      "text/plain": [
       "age           int64\n",
       "sex          object\n",
       "bmi         float64\n",
       "children      int64\n",
       "smoker       object\n",
       "region       object\n",
       "charges     float64\n",
       "dtype: object"
      ]
     },
     "execution_count": 18,
     "metadata": {},
     "output_type": "execute_result"
    }
   ],
   "source": [
    "df.dtypes"
   ]
  },
  {
   "cell_type": "code",
   "execution_count": 19,
   "id": "faea233f",
   "metadata": {},
   "outputs": [
    {
     "data": {
      "text/html": [
       "<div>\n",
       "<style scoped>\n",
       "    .dataframe tbody tr th:only-of-type {\n",
       "        vertical-align: middle;\n",
       "    }\n",
       "\n",
       "    .dataframe tbody tr th {\n",
       "        vertical-align: top;\n",
       "    }\n",
       "\n",
       "    .dataframe thead th {\n",
       "        text-align: right;\n",
       "    }\n",
       "</style>\n",
       "<table border=\"1\" class=\"dataframe\">\n",
       "  <thead>\n",
       "    <tr style=\"text-align: right;\">\n",
       "      <th></th>\n",
       "      <th>age</th>\n",
       "      <th>sex</th>\n",
       "      <th>bmi</th>\n",
       "      <th>children</th>\n",
       "      <th>smoker</th>\n",
       "      <th>region</th>\n",
       "      <th>charges</th>\n",
       "    </tr>\n",
       "  </thead>\n",
       "  <tbody>\n",
       "    <tr>\n",
       "      <th>0</th>\n",
       "      <td>19</td>\n",
       "      <td>female</td>\n",
       "      <td>27.900</td>\n",
       "      <td>0</td>\n",
       "      <td>yes</td>\n",
       "      <td>southwest</td>\n",
       "      <td>16884.92400</td>\n",
       "    </tr>\n",
       "    <tr>\n",
       "      <th>1</th>\n",
       "      <td>18</td>\n",
       "      <td>male</td>\n",
       "      <td>33.770</td>\n",
       "      <td>1</td>\n",
       "      <td>no</td>\n",
       "      <td>southeast</td>\n",
       "      <td>1725.55230</td>\n",
       "    </tr>\n",
       "    <tr>\n",
       "      <th>2</th>\n",
       "      <td>28</td>\n",
       "      <td>male</td>\n",
       "      <td>33.000</td>\n",
       "      <td>3</td>\n",
       "      <td>no</td>\n",
       "      <td>southeast</td>\n",
       "      <td>4449.46200</td>\n",
       "    </tr>\n",
       "    <tr>\n",
       "      <th>3</th>\n",
       "      <td>33</td>\n",
       "      <td>male</td>\n",
       "      <td>22.705</td>\n",
       "      <td>0</td>\n",
       "      <td>no</td>\n",
       "      <td>northwest</td>\n",
       "      <td>21984.47061</td>\n",
       "    </tr>\n",
       "    <tr>\n",
       "      <th>4</th>\n",
       "      <td>32</td>\n",
       "      <td>male</td>\n",
       "      <td>28.880</td>\n",
       "      <td>0</td>\n",
       "      <td>no</td>\n",
       "      <td>northwest</td>\n",
       "      <td>3866.85520</td>\n",
       "    </tr>\n",
       "  </tbody>\n",
       "</table>\n",
       "</div>"
      ],
      "text/plain": [
       "   age     sex     bmi  children smoker     region      charges\n",
       "0   19  female  27.900         0    yes  southwest  16884.92400\n",
       "1   18    male  33.770         1     no  southeast   1725.55230\n",
       "2   28    male  33.000         3     no  southeast   4449.46200\n",
       "3   33    male  22.705         0     no  northwest  21984.47061\n",
       "4   32    male  28.880         0     no  northwest   3866.85520"
      ]
     },
     "execution_count": 19,
     "metadata": {},
     "output_type": "execute_result"
    }
   ],
   "source": [
    "df.head()"
   ]
  },
  {
   "cell_type": "code",
   "execution_count": 20,
   "id": "995a3a17",
   "metadata": {},
   "outputs": [
    {
     "data": {
      "image/png": "[encoded data removed]",
      "text/plain": [
       "<Figure size 432x432 with 1 Axes>"
      ]
     },
     "metadata": {
      "needs_background": "light"
     },
     "output_type": "display_data"
    }
   ],
   "source": [
    "#Region column\n",
    "plt.figure(figsize=(6,6))\n",
    "sns.countplot(x = 'region', data = df)\n",
    "plt.title('Region')\n",
    "plt.show()"
   ]
  },
  {
   "cell_type": "code",
   "execution_count": 21,
   "id": "fd0d7316",
   "metadata": {},
   "outputs": [
    {
     "data": {
      "image/png": "[encoded data removed]",
      "text/plain": [
       "<Figure size 432x432 with 1 Axes>"
      ]
     },
     "metadata": {
      "needs_background": "light"
     },
     "output_type": "display_data"
    }
   ],
   "source": [
    "#Childern column count plot\n",
    "plt.figure(figsize=(6,6))\n",
    "sns.countplot(x = 'children', data = df)\n",
    "plt.title('Children')\n",
    "plt.show()"
   ]
  },
  {
   "cell_type": "code",
   "execution_count": 22,
   "id": "08082433",
   "metadata": {},
   "outputs": [
    {
     "name": "stderr",
     "output_type": "stream",
     "text": [
      "C:\\Users\\RUSHIKESH\\anaconda3\\envs\\ML Project\\lib\\site-packages\\seaborn\\distributions.py:2619: FutureWarning: `distplot` is a deprecated function and will be removed in a future version. Please adapt your code to use either `displot` (a figure-level function with similar flexibility) or `histplot` (an axes-level function for histograms).\n",
      "  warnings.warn(msg, FutureWarning)\n"
     ]
    },
    {
     "data": {
      "image/png": "[encoded data removed]",
      "text/plain": [
       "<Figure size 432x432 with 1 Axes>"
      ]
     },
     "metadata": {
      "needs_background": "light"
     },
     "output_type": "display_data"
    }
   ],
   "source": [
    "#Distribution of the bmi value distribution plot\n",
    "\n",
    "plt.figure(figsize=(6,6))\n",
    "sns.distplot(df['bmi']) \n",
    "plt.title('BMI Distribution')\n",
    "plt.show()"
   ]
  },
  {
   "cell_type": "code",
   "execution_count": 23,
   "id": "ab7a424f",
   "metadata": {},
   "outputs": [
    {
     "data": {
      "text/plain": [
       "<Figure size 432x432 with 0 Axes>"
      ]
     },
     "metadata": {},
     "output_type": "display_data"
    },
    {
     "data": {
      "image/png": "[encoded data removed]",
      "text/plain": [
       "<Figure size 360x360 with 1 Axes>"
      ]
     },
     "metadata": {},
     "output_type": "display_data"
    }
   ],
   "source": [
    "#Distribution of the age value \n",
    "sns.set() \n",
    "plt.figure(figsize=(6,6))\n",
    "sns.displot(df['age']) \n",
    "plt.title('Age Distribution')\n",
    "plt.show()"
   ]
  },
  {
   "cell_type": "code",
   "execution_count": 24,
   "id": "ab1bea7f",
   "metadata": {},
   "outputs": [
    {
     "data": {
      "image/png": "[encoded data removed]",
      "text/plain": [
       "<Figure size 432x432 with 1 Axes>"
      ]
     },
     "metadata": {},
     "output_type": "display_data"
    }
   ],
   "source": [
    "#Gender column (catagorical) count plot\n",
    "plt.figure(figsize=(6,6))\n",
    "sns.countplot(x = 'sex' , data=df)\n",
    "plt.title('Sex Distribution')\n",
    "plt.show()"
   ]
  },
  {
   "cell_type": "code",
   "execution_count": 25,
   "id": "5ddbd6b9",
   "metadata": {},
   "outputs": [
    {
     "data": {
      "image/png": "[encoded data removed]",
      "text/plain": [
       "<Figure size 432x432 with 1 Axes>"
      ]
     },
     "metadata": {},
     "output_type": "display_data"
    }
   ],
   "source": [
    "#Smoker Column count plot\n",
    "plt.figure(figsize=(6,6))\n",
    "sns.countplot(x = 'smoker', data = df)\n",
    "plt.title('Smoker')\n",
    "plt.show()"
   ]
  },
  {
   "cell_type": "code",
   "execution_count": 26,
   "id": "d3ddc5b4",
   "metadata": {},
   "outputs": [],
   "source": [
    "#Encoding the Sex Column\n",
    "df.replace({'sex':{'male': 0, 'female': 1}}, inplace=True)\n",
    "\n",
    "#Encoding the Smoker Column\n",
    "df.replace({'smoker':{'yes': 0, 'no': 1}}, inplace=True)\n",
    "\n",
    "#Encoding the Region Column\n",
    "df.replace({'region':{'southeast': 0, 'southwest': 1, 'northeast':2, 'northwest':3}}, inplace = True)"
   ]
  },
  {
   "cell_type": "code",
   "execution_count": 27,
   "id": "51cca3ef",
   "metadata": {},
   "outputs": [],
   "source": [
    "features = ['age','sex','bmi','smoker','region']\n",
    "\n",
    "x=df.loc[:, features].values\n",
    "\n",
    "y= df.loc[:,['charges']].values\n",
    "\n",
    "x=StandardScaler().fit_transform(x)"
   ]
  },
  {
   "cell_type": "code",
   "execution_count": 28,
   "id": "086116c1",
   "metadata": {},
   "outputs": [],
   "source": [
    "pca= PCA(n_components=2)\n",
    "principalComponents = pca.fit_transform(x)\n",
    "principalDf= pd.DataFrame(data= principalComponents,columns=['principal component 1','principal component 2'])"
   ]
  },
  {
   "cell_type": "code",
   "execution_count": 29,
   "id": "dfa26cc8",
   "metadata": {},
   "outputs": [],
   "source": [
    "finalDf= pd.concat([principalDf ,df[['charges']]],axis =1)"
   ]
  },
  {
   "cell_type": "code",
   "execution_count": 30,
   "id": "175d21bb",
   "metadata": {},
   "outputs": [
    {
     "name": "stdout",
     "output_type": "stream",
     "text": [
      "      principal component 1  principal component 2      charges\n",
      "0                 -0.236985               1.478261  16884.92400\n",
      "1                  0.945229               0.969146   1725.55230\n",
      "2                  1.015041               0.634109   4449.46200\n",
      "3                 -1.797339               0.614081  21984.47061\n",
      "4                 -1.113427               0.487189   3866.85520\n",
      "...                     ...                    ...          ...\n",
      "1333              -0.593941              -0.207307  10600.54830\n",
      "1334              -0.752018              -0.196019   2205.98080\n",
      "1335               0.956209              -0.250245   1629.83350\n",
      "1336              -0.823456              -0.103907   2007.94500\n",
      "1337              -0.594477              -0.120181  29141.36030\n",
      "\n",
      "[1338 rows x 3 columns]\n"
     ]
    }
   ],
   "source": [
    "print(finalDf)"
   ]
  },
  {
   "cell_type": "code",
   "execution_count": 31,
   "id": "c966f156",
   "metadata": {},
   "outputs": [
    {
     "name": "stdout",
     "output_type": "stream",
     "text": [
      "Training features :  (1070, 6)\n",
      "Training target :  (1070,)\n",
      "Testing features :  (268, 6)\n",
      "Testing target :  (268,)\n"
     ]
    }
   ],
   "source": [
    "from sklearn.model_selection import train_test_split\n",
    "\n",
    "# Split the dataset to training and testing\n",
    "train, test = train_test_split(df, test_size=0.2)\n",
    "\n",
    "# Split the feature and the target\n",
    "train_y = train.charges.values\n",
    "train_x = train.drop(columns=['charges']).values\n",
    "test_y = test.charges.values\n",
    "test_x = test.drop(columns=['charges']).values\n",
    "\n",
    "# See the size of training and testing\n",
    "print('Training features : ', train_x.shape)\n",
    "print('Training target : ', train_y.shape)\n",
    "print('Testing features : ', test_x.shape)\n",
    "print('Testing target : ', test_y.shape)"
   ]
  },
  {
   "cell_type": "code",
   "execution_count": 172,
   "id": "8a4e995d",
   "metadata": {},
   "outputs": [],
   "source": [
    "from sklearn.preprocessing import StandardScaler\n",
    "scaler = StandardScaler()\n",
    "\n",
    "# Fit on training set only.\n",
    "scaler.fit(train_x)\n",
    "\n",
    "# Apply transform to both the training set and the test set.\n",
    "train_x = scaler.transform(train_x)\n",
    "test_x = scaler.transform(test_x)"
   ]
  },
  {
   "cell_type": "code",
   "execution_count": 173,
   "id": "dae47aad",
   "metadata": {},
   "outputs": [],
   "source": [
    "pca = PCA(.95)\n"
   ]
  },
  {
   "cell_type": "code",
   "execution_count": 174,
   "id": "0d82a9ae",
   "metadata": {},
   "outputs": [],
   "source": [
    "from sklearn.decomposition import PCA\n",
    "pca.fit(train_x)\n",
    "pca.fit(test_x)\n",
    "\n",
    "train_x = pca.transform(train_x)\n",
    "test_x = pca.transform(test_x)\n"
   ]
  },
  {
   "cell_type": "code",
   "execution_count": 175,
   "id": "f3505d62",
   "metadata": {},
   "outputs": [],
   "source": [
    "from sklearn.linear_model import LinearRegression\n",
    "linRegr = LinearRegression()"
   ]
  },
  {
   "cell_type": "code",
   "execution_count": 176,
   "id": "63bd826b",
   "metadata": {},
   "outputs": [
    {
     "data": {
      "text/plain": [
       "LinearRegression()"
      ]
     },
     "execution_count": 176,
     "metadata": {},
     "output_type": "execute_result"
    }
   ],
   "source": [
    "linRegr.fit(train_x, train_y)"
   ]
  },
  {
   "cell_type": "code",
   "execution_count": 177,
   "id": "ec6e6b07",
   "metadata": {},
   "outputs": [],
   "source": [
    "training_data_prediction=linRegr.predict(test_x)"
   ]
  },
  {
   "cell_type": "code",
   "execution_count": 178,
   "id": "62efbc2c",
   "metadata": {},
   "outputs": [
    {
     "name": "stdout",
     "output_type": "stream",
     "text": [
      "R squared value is:  0.7433523978431212\n",
      "MSE-Linear Regression : 6579.70 (square-rooted)\n"
     ]
    }
   ],
   "source": [
    "#R squared value of train data.\n",
    "from sklearn.metrics import mean_squared_error, r2_score\n",
    "import math\n",
    "r2_train = metrics.r2_score(test_y, training_data_prediction)\n",
    "print(\"R squared value is: \", r2_train)\n",
    "\n",
    "\n",
    "rf_mse = mean_squared_error(test_y, training_data_prediction)\n",
    "print('MSE-Linear Regression : %.2f (square-rooted)' % math.sqrt(rf_mse))"
   ]
  },
  {
   "cell_type": "code",
   "execution_count": 56,
   "id": "c0f23085",
   "metadata": {},
   "outputs": [
    {
     "data": {
      "image/png": "[encoded data removed]",
      "text/plain": [
       "<Figure size 720x720 with 1 Axes>"
      ]
     },
     "metadata": {},
     "output_type": "display_data"
    }
   ],
   "source": [
    "plt.figure(figsize=(10,10))\n",
    "plt.scatter(test_y, training_data_prediction, c='crimson')\n",
    "plt.yscale('log')\n",
    "plt.xscale('log')\n",
    "\n",
    "p1 = max(max(test_y), max(test_y))\n",
    "p2 = min(min(training_data_prediction), min(test_y))\n",
    "plt.plot([p1, p2], [p1, p2], 'b-')\n",
    "plt.xlabel('True Values', fontsize=15)\n",
    "plt.ylabel('Predictions', fontsize=15)\n",
    "plt.axis('equal')\n",
    "plt.show()"
   ]
  }
 ],
 "metadata": {
  "kernelspec": {
   "display_name": "Python 3",
   "language": "python",
   "name": "python3"
  },
  "language_info": {
   "codemirror_mode": {
    "name": "ipython",
    "version": 3
   },
   "file_extension": ".py",
   "mimetype": "text/x-python",
   "name": "python",
   "nbconvert_exporter": "python",
   "pygments_lexer": "ipython3",
   "version": "3.8.8"
  }
 },
 "nbformat": 4,
 "nbformat_minor": 5
}
